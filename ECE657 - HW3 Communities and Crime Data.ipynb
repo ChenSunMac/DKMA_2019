{
 "cells": [
  {
   "cell_type": "code",
   "execution_count": 69,
   "metadata": {},
   "outputs": [],
   "source": [
    "## import packages \n",
    "import pandas as pd\n",
    "import numpy as np\n",
    "import matplotlib.pyplot as plt"
   ]
  },
  {
   "cell_type": "markdown",
   "metadata": {},
   "source": [
    "### Homework 3:Eigenvector Decomposition\n",
    "\n",
    "For this homework you will use the Communities and Crime Data Set\n",
    "\n",
    "-  http://archive.ics.uci.edu/ml/datasets/communities+and+crime\n",
    "\n",
    "- In the class we talked about how to reduce data dimensionality by extracting new set of featuresusing PCA, LDA and other methods.  The basis of these methods is the eigenvector decompositionof the data matrix.\n",
    "\n",
    "\n",
    "- Load the crime dataset and store it as a matrix (The data is already normalized so you should not need to normalize the data further.)\n",
    "\n",
    "- Report a table with the top 20 eigenvalues, is there a clear point where you could cut the dimensions?"
   ]
  },
  {
   "cell_type": "code",
   "execution_count": 71,
   "metadata": {},
   "outputs": [],
   "source": [
    "## load the data in pandas\n",
    "crime_data = pd.read_csv('communities.data.txt', sep=\",\", header=None)"
   ]
  },
  {
   "cell_type": "code",
   "execution_count": 72,
   "metadata": {},
   "outputs": [
    {
     "data": {
      "text/plain": [
       "<bound method NDFrame.head of       0    1      2                       3    4     5     6     7     8    \\\n",
       "0       8    ?      ?            Lakewoodcity    1  0.19  0.33  0.02  0.90   \n",
       "1      53    ?      ?             Tukwilacity    1  0.00  0.16  0.12  0.74   \n",
       "2      24    ?      ?            Aberdeentown    1  0.00  0.42  0.49  0.56   \n",
       "3      34    5  81440     Willingborotownship    1  0.04  0.77  1.00  0.08   \n",
       "4      42   95   6096       Bethlehemtownship    1  0.01  0.55  0.02  0.95   \n",
       "5       6    ?      ?       SouthPasadenacity    1  0.02  0.28  0.06  0.54   \n",
       "6      44    7  41500             Lincolntown    1  0.01  0.39  0.00  0.98   \n",
       "7       6    ?      ?               Selmacity    1  0.01  0.74  0.03  0.46   \n",
       "8      21    ?      ?           Hendersoncity    1  0.03  0.34  0.20  0.84   \n",
       "9      29    ?      ?             Claytoncity    1  0.01  0.40  0.06  0.87   \n",
       "10      6    ?      ?            DalyCitycity    1  0.13  0.71  0.15  0.07   \n",
       "11     36    ?      ?  RockvilleCentrevillage    1  0.02  0.46  0.08  0.91   \n",
       "12     25   21  44105             Needhamtown    1  0.03  0.47  0.01  0.96   \n",
       "13     55   87  30075          GrandChutetown    1  0.01  0.44  0.00  0.98   \n",
       "14      6    ?      ?           DanaPointcity    1  0.04  0.36  0.01  0.85   \n",
       "15     19  187  91370           FortDodgecity    1  0.03  0.34  0.06  0.93   \n",
       "16     36    1   1000              Albanycity    1  0.15  0.31  0.40  0.63   \n",
       "17     34   27  17650        Denvilletownship    1  0.01  0.53  0.01  0.94   \n",
       "18     18    ?      ?          Valparaisocity    1  0.02  0.47  0.01  0.97   \n",
       "19     42  129  66376       Rostravertownship    1  0.00  0.41  0.05  0.96   \n",
       "20      6    ?      ?             Modestocity    1  0.25  0.54  0.05  0.71   \n",
       "21     12   31      ?        Jacksonvillecity    1  1.00  0.42  0.47  0.59   \n",
       "22     41    ?      ?        KlamathFallscity    1  0.01  0.34  0.02  0.87   \n",
       "23     19  193  93926           SiouxCitycity    1  0.11  0.43  0.04  0.89   \n",
       "24      6    ?      ?              Delanocity    1  0.02  0.96  0.05  0.00   \n",
       "25      8    ?      ?              Goldencity    1  0.00  0.33  0.02  0.91   \n",
       "26      6    ?      ?             Gardenacity    1  0.06  0.49  0.46  0.00   \n",
       "27     39   29  61798           Perrytownship    1  0.01  0.37  0.01  0.99   \n",
       "28     54    ?      ?             Beckleycity    1  0.01  0.27  0.43  0.64   \n",
       "29      9    7  22490         EastHamptontown    1  0.00  0.50  0.01  0.98   \n",
       "...   ...  ...    ...                     ...  ...   ...   ...   ...   ...   \n",
       "1964   36  119  49121         MountVernoncity   10  0.09  0.45  1.00  0.08   \n",
       "1965   18   97      ?        Indianapoliscity   10  1.00  0.36  0.44  0.64   \n",
       "1966    6    ?      ?         RedwoodCitycity   10  0.09  0.41  0.07  0.74   \n",
       "1967   25   17  76135            Westfordtown   10  0.01  0.66  0.00  0.97   \n",
       "1968   34   25  62430          RedBankborough   10  0.00  0.24  0.51  0.53   \n",
       "1969    6    ?      ?        SanFranciscocity   10  1.00  0.29  0.21  0.29   \n",
       "1970   45    ?      ?               Caycecity   10  0.00  0.37  0.38  0.69   \n",
       "1971    1    ?      ?             Decaturcity   10  0.06  0.39  0.32  0.73   \n",
       "1972    6    ?      ?            Redlandscity   10  0.08  0.49  0.07  0.69   \n",
       "1973   39    ?      ?           Englewoodcity   10  0.00  0.38  0.03  0.97   \n",
       "1974   37    ?      ?             Tarborotown   10  0.00  0.41  0.62  0.51   \n",
       "1975   53    ?      ?            Kirklandcity   10  0.05  0.27  0.03  0.89   \n",
       "1976   25   17   1605           Arlingtontown   10  0.06  0.29  0.03  0.93   \n",
       "1977   47    ?      ?           Maryvillecity   10  0.01  0.35  0.06  0.94   \n",
       "1978    9    1   4720              Betheltown   10  0.01  0.54  0.02  0.94   \n",
       "1979   34   39  61530              Rahwaycity   10  0.02  0.43  0.39  0.63   \n",
       "1980   25    5  69170             Tauntoncity   10  0.06  0.43  0.04  0.93   \n",
       "1981    9    9  35650              Hamdentown   10  0.07  0.38  0.17  0.84   \n",
       "1982   42  133  73168    SpringGardentownship   10  0.00  0.47  0.02  0.98   \n",
       "1983   13    ?      ?          ForestParkcity   10  0.01  0.45  0.37  0.65   \n",
       "1984   39   95  48342              Maumeecity   10  0.01  0.43  0.01  0.98   \n",
       "1985    1    ?      ?       AlexanderCitycity   10  0.01  0.41  0.55  0.57   \n",
       "1986    9    3  70550         Southingtontown   10  0.05  0.52  0.02  0.97   \n",
       "1987   44    7  11800        Burrillvilletown   10  0.01  0.65  0.00  1.00   \n",
       "1988   28    ?      ?            Columbuscity   10  0.02  0.41  1.00  0.21   \n",
       "1989   12    ?      ?       TempleTerracecity   10  0.01  0.40  0.10  0.87   \n",
       "1990    6    ?      ?             Seasidecity   10  0.05  0.96  0.46  0.28   \n",
       "1991    9    9  80070           Waterburytown   10  0.16  0.37  0.25  0.69   \n",
       "1992   25   17  72600             Walthamcity   10  0.08  0.51  0.06  0.87   \n",
       "1993    6    ?      ?             Ontariocity   10  0.20  0.78  0.14  0.46   \n",
       "\n",
       "       9    ...    118   119   120   121   122   123  124   125   126   127  \n",
       "0     0.12  ...   0.12  0.26  0.20  0.06  0.04   0.9  0.5  0.32  0.14  0.20  \n",
       "1     0.45  ...   0.02  0.12  0.45     ?     ?     ?    ?  0.00     ?  0.67  \n",
       "2     0.17  ...   0.01  0.21  0.02     ?     ?     ?    ?  0.00     ?  0.43  \n",
       "3     0.12  ...   0.02  0.39  0.28     ?     ?     ?    ?  0.00     ?  0.12  \n",
       "4     0.09  ...   0.04  0.09  0.02     ?     ?     ?    ?  0.00     ?  0.03  \n",
       "5     1.00  ...   0.01  0.58  0.10     ?     ?     ?    ?  0.00     ?  0.14  \n",
       "6     0.06  ...   0.05  0.08  0.06     ?     ?     ?    ?  0.00     ?  0.03  \n",
       "7     0.20  ...   0.01  0.33  0.00     ?     ?     ?    ?  0.00     ?  0.55  \n",
       "8     0.02  ...   0.04  0.17  0.04     ?     ?     ?    ?  0.00     ?  0.53  \n",
       "9     0.30  ...   0.00  0.47  0.11     ?     ?     ?    ?  0.00     ?  0.15  \n",
       "10    1.00  ...   0.02  1.00  1.00     ?     ?     ?    ?  0.00     ?  0.24  \n",
       "11    0.07  ...   0.01  0.63  1.00     ?     ?     ?    ?  0.00     ?  0.08  \n",
       "12    0.13  ...   0.03  0.18  0.59     ?     ?     ?    ?  0.00     ?  0.06  \n",
       "13    0.04  ...   0.08  0.04  0.00     ?     ?     ?    ?  0.00     ?  0.09  \n",
       "14    0.14  ...   0.02  0.40  0.15     ?     ?     ?    ?  0.00     ?  0.21  \n",
       "15    0.03  ...   0.04  0.15  0.04     ?     ?     ?    ?  0.00     ?  0.30  \n",
       "16    0.14  ...   0.06  0.39  0.84  0.06  0.06  0.91  0.5  0.88  0.26  0.49  \n",
       "17    0.20  ...   0.03  0.09  0.21     ?     ?     ?    ?  0.00     ?  0.07  \n",
       "18    0.07  ...   0.03  0.20  0.07     ?     ?     ?    ?  0.00     ?  0.15  \n",
       "19    0.01  ...   0.09  0.03  0.05     ?     ?     ?    ?  0.00     ?  0.03  \n",
       "20    0.48  ...   0.09  0.46  0.05  0.09  0.05  0.88  0.5  0.76  0.13  0.34  \n",
       "21    0.12  ...   1.00  0.07  0.15     1  0.35  0.73    0  0.31  0.21  0.69  \n",
       "22    0.07  ...   0.05  0.09  0.06     ?     ?     ?    ?  0.00     ?  0.21  \n",
       "23    0.09  ...   0.16  0.12  0.07  0.04  0.01  0.81    1  0.56  0.09  0.63  \n",
       "24    1.00  ...   0.02  0.22  0.02     ?     ?     ?    ?  0.00     ?  0.31  \n",
       "25    0.16  ...   0.02  0.15  0.16     ?     ?     ?    ?  0.00     ?  0.12  \n",
       "26    1.00  ...   0.01  0.79  0.21     ?     ?     ?    ?  0.00     ?  0.84  \n",
       "27    0.02  ...   0.04  0.09  0.00     ?     ?     ?    ?  0.00     ?  0.10  \n",
       "28    0.08  ...   0.02  0.17  0.00     ?     ?     ?    ?  0.00     ?  0.49  \n",
       "29    0.02  ...   0.10  0.02  0.08     ?     ?     ?    ?  0.00     ?  0.02  \n",
       "...    ...  ...    ...   ...   ...   ...   ...   ...  ...   ...   ...   ...  \n",
       "1964  0.11  ...   0.01  1.00  1.00     ?     ?     ?    ?  0.00     ?  0.60  \n",
       "1965  0.06  ...   1.00  0.17  0.18  0.45  0.19   0.5  0.5  0.44  0.21  0.69  \n",
       "1966  0.39  ...   0.05  0.29  0.22     ?     ?     ?    ?  0.00     ?  0.30  \n",
       "1967  0.10  ...   0.09  0.04  0.04     ?     ?     ?    ?  0.00     ?  0.04  \n",
       "1968  0.11  ...   0.00  0.50  0.49     ?     ?     ?    ?  0.00     ?  0.19  \n",
       "1969  1.00  ...   0.13  1.00  1.00  0.53  0.62  0.64  0.5  0.64  0.35  0.75  \n",
       "1970  0.04  ...   0.02  0.10  0.08     ?     ?     ?    ?  0.00     ?  0.53  \n",
       "1971  0.04  ...   0.14  0.09  0.01     ?     ?     ?    ?  0.00     ?  0.22  \n",
       "1972  0.27  ...   0.07  0.21  0.02     ?     ?     ?    ?  0.00     ?  0.30  \n",
       "1973  0.04  ...   0.01  0.18  0.10     ?     ?     ?    ?  0.00     ?  0.04  \n",
       "1974  0.02  ...   0.02  0.10  0.00     ?     ?     ?    ?  0.00     ?  0.52  \n",
       "1975  0.27  ...   0.03  0.31  0.34     ?     ?     ?    ?  0.00     ?  0.09  \n",
       "1976  0.18  ...   0.01  0.72  0.94     ?     ?     ?    ?  0.00     ?  0.08  \n",
       "1977  0.06  ...   0.04  0.12  0.01     ?     ?     ?    ?  0.00     ?  0.25  \n",
       "1978  0.13  ...   0.05  0.09  0.14     ?     ?     ?    ?  0.00     ?  0.04  \n",
       "1979  0.15  ...   0.01  0.53  0.43     ?     ?     ?    ?  0.00     ?  0.16  \n",
       "1980  0.03  ...   0.13  0.09  0.11     ?     ?     ?    ?  0.00     ?  0.28  \n",
       "1981  0.11  ...   0.09  0.13  0.17  0.02  0.01  0.72    0  0.62  0.15  0.07  \n",
       "1982  0.03  ...   0.02  0.14  0.04     ?     ?     ?    ?  0.00     ?  0.03  \n",
       "1983  0.15  ...   0.02  0.16  0.13     ?     ?     ?    ?  0.00     ?  0.56  \n",
       "1984  0.03  ...   0.02  0.15  0.06     ?     ?     ?    ?  0.00     ?  0.14  \n",
       "1985  0.01  ...   0.11  0.03  0.01     ?     ?     ?    ?  0.00     ?  0.14  \n",
       "1986  0.04  ...   0.10  0.09  0.03     ?     ?     ?    ?  0.00     ?  0.02  \n",
       "1987  0.01  ...   0.16  0.02  0.02     ?     ?     ?    ?  0.00     ?  0.04  \n",
       "1988  0.02  ...   0.03  0.17  0.02     ?     ?     ?    ?  0.00     ?  0.19  \n",
       "1989  0.12  ...   0.01  0.28  0.05     ?     ?     ?    ?  0.00     ?  0.09  \n",
       "1990  0.83  ...   0.02  0.37  0.20     ?     ?     ?    ?  0.00     ?  0.45  \n",
       "1991  0.04  ...   0.08  0.32  0.18  0.08  0.06  0.78    0  0.91  0.28  0.23  \n",
       "1992  0.22  ...   0.03  0.38  0.33  0.02  0.02  0.79    0  0.22  0.18  0.19  \n",
       "1993  0.24  ...   0.11  0.30  0.05  0.08  0.04  0.73  0.5  1.00  0.13  0.48  \n",
       "\n",
       "[1994 rows x 128 columns]>"
      ]
     },
     "execution_count": 72,
     "metadata": {},
     "output_type": "execute_result"
    }
   ],
   "source": [
    "crime_data.head"
   ]
  },
  {
   "cell_type": "code",
   "execution_count": 3,
   "metadata": {},
   "outputs": [
    {
     "name": "stdout",
     "output_type": "stream",
     "text": [
      "               0            4            5            6            7    \\\n",
      "count  1994.000000  1994.000000  1994.000000  1994.000000  1994.000000   \n",
      "mean     28.683551     5.493982     0.057593     0.463395     0.179629   \n",
      "std      16.397553     2.873694     0.126906     0.163717     0.253442   \n",
      "min       1.000000     1.000000     0.000000     0.000000     0.000000   \n",
      "25%      12.000000     3.000000     0.010000     0.350000     0.020000   \n",
      "50%      34.000000     5.000000     0.020000     0.440000     0.060000   \n",
      "75%      42.000000     8.000000     0.050000     0.540000     0.230000   \n",
      "max      56.000000    10.000000     1.000000     1.000000     1.000000   \n",
      "\n",
      "               8            9            10           11           12   \\\n",
      "count  1994.000000  1994.000000  1994.000000  1994.000000  1994.000000   \n",
      "mean      0.753716     0.153681     0.144022     0.424218     0.493867   \n",
      "std       0.244039     0.208877     0.232492     0.155196     0.143564   \n",
      "min       0.000000     0.000000     0.000000     0.000000     0.000000   \n",
      "25%       0.630000     0.040000     0.010000     0.340000     0.410000   \n",
      "50%       0.850000     0.070000     0.040000     0.400000     0.480000   \n",
      "75%       0.940000     0.170000     0.160000     0.470000     0.540000   \n",
      "max       1.000000     1.000000     1.000000     1.000000     1.000000   \n",
      "\n",
      "          ...               96           97           98           99   \\\n",
      "count     ...       1994.000000  1994.000000  1994.000000  1994.000000   \n",
      "mean      ...          0.215552     0.608892     0.535050     0.626424   \n",
      "std       ...          0.231134     0.204329     0.181352     0.200521   \n",
      "min       ...          0.000000     0.000000     0.000000     0.000000   \n",
      "25%       ...          0.060000     0.470000     0.420000     0.520000   \n",
      "50%       ...          0.130000     0.630000     0.540000     0.670000   \n",
      "75%       ...          0.280000     0.777500     0.660000     0.770000   \n",
      "max       ...          1.000000     1.000000     1.000000     1.000000   \n",
      "\n",
      "               100          118          119          120          125  \\\n",
      "count  1994.000000  1994.000000  1994.000000  1994.000000  1994.000000   \n",
      "mean      0.651530     0.065231     0.232854     0.161685     0.094052   \n",
      "std       0.198221     0.109459     0.203092     0.229055     0.240328   \n",
      "min       0.000000     0.000000     0.000000     0.000000     0.000000   \n",
      "25%       0.560000     0.020000     0.100000     0.020000     0.000000   \n",
      "50%       0.700000     0.040000     0.170000     0.070000     0.000000   \n",
      "75%       0.790000     0.070000     0.280000     0.190000     0.000000   \n",
      "max       1.000000     1.000000     1.000000     1.000000     1.000000   \n",
      "\n",
      "               127  \n",
      "count  1994.000000  \n",
      "mean      0.237979  \n",
      "std       0.232985  \n",
      "min       0.000000  \n",
      "25%       0.070000  \n",
      "50%       0.150000  \n",
      "75%       0.330000  \n",
      "max       1.000000  \n",
      "\n",
      "[8 rows x 102 columns]\n"
     ]
    }
   ],
   "source": [
    "print(crime_data.describe())"
   ]
  },
  {
   "cell_type": "markdown",
   "metadata": {},
   "source": [
    "#### Imputing the data\n",
    "We can find that the data is not clean where there are lot of entries missing with '?' value. Hence we plan to imputing the missing data."
   ]
  },
  {
   "cell_type": "code",
   "execution_count": 83,
   "metadata": {},
   "outputs": [],
   "source": [
    "def isnumber(x):\n",
    "    try:\n",
    "        float(x)\n",
    "        return True\n",
    "    except:\n",
    "        return False\n",
    "\n",
    "## change all the non-number instances to nan\n",
    "crime_data = crime_data[crime_data.applymap(isnumber)]\n",
    "\n",
    "## convert as matrix and change the datatype to float\n",
    "crime_matrix = crime_data.values.astype('float')"
   ]
  },
  {
   "cell_type": "code",
   "execution_count": 84,
   "metadata": {},
   "outputs": [
    {
     "data": {
      "text/plain": [
       "array([[8.000e+00,       nan,       nan, ..., 3.200e-01, 1.400e-01,\n",
       "        2.000e-01],\n",
       "       [5.300e+01,       nan,       nan, ..., 0.000e+00,       nan,\n",
       "        6.700e-01],\n",
       "       [2.400e+01,       nan,       nan, ..., 0.000e+00,       nan,\n",
       "        4.300e-01],\n",
       "       ...,\n",
       "       [9.000e+00, 9.000e+00, 8.007e+04, ..., 9.100e-01, 2.800e-01,\n",
       "        2.300e-01],\n",
       "       [2.500e+01, 1.700e+01, 7.260e+04, ..., 2.200e-01, 1.800e-01,\n",
       "        1.900e-01],\n",
       "       [6.000e+00,       nan,       nan, ..., 1.000e+00, 1.300e-01,\n",
       "        4.800e-01]])"
      ]
     },
     "execution_count": 84,
     "metadata": {},
     "output_type": "execute_result"
    }
   ],
   "source": [
    "crime_matrix"
   ]
  },
  {
   "cell_type": "code",
   "execution_count": 85,
   "metadata": {},
   "outputs": [],
   "source": [
    "from sklearn.impute import SimpleImputer\n",
    "imp_mean = SimpleImputer(missing_values=np.nan, strategy='mean')"
   ]
  },
  {
   "cell_type": "code",
   "execution_count": 86,
   "metadata": {},
   "outputs": [
    {
     "data": {
      "text/plain": [
       "SimpleImputer(copy=True, fill_value=None, missing_values=nan, strategy='mean',\n",
       "       verbose=0)"
      ]
     },
     "execution_count": 86,
     "metadata": {},
     "output_type": "execute_result"
    }
   ],
   "source": [
    "imp_mean.fit(crime_matrix)"
   ]
  },
  {
   "cell_type": "code",
   "execution_count": 92,
   "metadata": {},
   "outputs": [],
   "source": [
    "crime_data_matrix_p = imp_mean.transform(crime_matrix)"
   ]
  },
  {
   "cell_type": "code",
   "execution_count": 93,
   "metadata": {},
   "outputs": [
    {
     "data": {
      "text/plain": [
       "(1994, 127)"
      ]
     },
     "execution_count": 93,
     "metadata": {},
     "output_type": "execute_result"
    }
   ],
   "source": [
    "crime_data_matrix_p.shape"
   ]
  },
  {
   "cell_type": "code",
   "execution_count": 94,
   "metadata": {},
   "outputs": [
    {
     "data": {
      "text/plain": [
       "array([[8.00000000e+00, 5.88268293e+01, 4.61883366e+04, ...,\n",
       "        3.20000000e-01, 1.40000000e-01, 2.00000000e-01],\n",
       "       [5.30000000e+01, 5.88268293e+01, 4.61883366e+04, ...,\n",
       "        0.00000000e+00, 1.95078370e-01, 6.70000000e-01],\n",
       "       [2.40000000e+01, 5.88268293e+01, 4.61883366e+04, ...,\n",
       "        0.00000000e+00, 1.95078370e-01, 4.30000000e-01],\n",
       "       ...,\n",
       "       [9.00000000e+00, 9.00000000e+00, 8.00700000e+04, ...,\n",
       "        9.10000000e-01, 2.80000000e-01, 2.30000000e-01],\n",
       "       [2.50000000e+01, 1.70000000e+01, 7.26000000e+04, ...,\n",
       "        2.20000000e-01, 1.80000000e-01, 1.90000000e-01],\n",
       "       [6.00000000e+00, 5.88268293e+01, 4.61883366e+04, ...,\n",
       "        1.00000000e+00, 1.30000000e-01, 4.80000000e-01]])"
      ]
     },
     "execution_count": 94,
     "metadata": {},
     "output_type": "execute_result"
    }
   ],
   "source": [
    "crime_data_matrix_p"
   ]
  },
  {
   "cell_type": "code",
   "execution_count": 100,
   "metadata": {},
   "outputs": [],
   "source": [
    "from numpy import linalg as LA"
   ]
  },
  {
   "cell_type": "markdown",
   "metadata": {},
   "source": [
    "## Calculate the eigenvalues and eigenvectors"
   ]
  },
  {
   "cell_type": "markdown",
   "metadata": {},
   "source": [
    "Instead of performing eigenvalue decomposition directly on the covariance matrix $R = A^TA$, I use the singular value decomposition on the crime data.\n",
    "\n",
    "In this case, the singular values are the root square of the eigenvalue of covariance matrix and the $V^T$ contains the eigenvectors."
   ]
  },
  {
   "cell_type": "code",
   "execution_count": 105,
   "metadata": {},
   "outputs": [],
   "source": [
    "u, s, vt = np.linalg.svd(crime_data_matrix_p, full_matrices=True)"
   ]
  },
  {
   "cell_type": "markdown",
   "metadata": {},
   "source": [
    "- The eigenvectors:"
   ]
  },
  {
   "cell_type": "code",
   "execution_count": 111,
   "metadata": {},
   "outputs": [
    {
     "name": "stdout",
     "output_type": "stream",
     "text": [
      "The eigenvectos of covariance matrix are: [[-5.53123394e-04 -1.19968821e-03 -9.99999118e-01 ... -1.81501123e-06\n",
      "  -3.75976360e-06 -4.52118901e-06]\n",
      " [-5.05036105e-02 -9.98714061e-01  1.22656965e-03 ... -2.77429497e-04\n",
      "  -8.01371377e-05 -3.01512856e-04]\n",
      " [-9.96714151e-01  5.06316063e-02  4.98884478e-04 ...  2.71377291e-04\n",
      "  -1.54157976e-03  1.79559232e-04]\n",
      " ...\n",
      " [ 1.25904828e-05 -1.26924180e-06 -6.69745864e-09 ... -1.28522827e-03\n",
      "   2.50731577e-02  8.97904379e-04]\n",
      " [ 2.61194455e-06 -3.59124771e-07 -2.81955695e-09 ... -7.87703668e-04\n",
      "   1.41537014e-03 -7.33994697e-04]\n",
      " [ 2.39320222e-07 -2.01118625e-08  4.04408331e-10 ...  1.89826373e-05\n",
      "  -4.42752682e-05 -4.21173134e-05]]\n"
     ]
    }
   ],
   "source": [
    "print(\"The eigenvectos of covariance matrix are:\", vt)"
   ]
  },
  {
   "cell_type": "markdown",
   "metadata": {},
   "source": [
    "- The eigenvalues:"
   ]
  },
  {
   "cell_type": "code",
   "execution_count": 109,
   "metadata": {},
   "outputs": [],
   "source": [
    "squarer = lambda t: t ** 2\n",
    "eigs = np.array([squarer(xi) for xi in s])"
   ]
  },
  {
   "cell_type": "code",
   "execution_count": 110,
   "metadata": {},
   "outputs": [
    {
     "name": "stdout",
     "output_type": "stream",
     "text": [
      "The eigenvalues are: [4.77623528e+12 1.31476439e+07 6.86061468e+05 2.24667102e+04\n",
      " 2.93218333e+03 2.00404191e+03 1.07771021e+03 6.52550070e+02\n",
      " 5.52199932e+02 3.65353700e+02 3.12976961e+02 2.33596986e+02\n",
      " 2.16949841e+02 1.74577407e+02 1.48709631e+02 1.12553687e+02\n",
      " 1.08318653e+02 1.00416719e+02 8.79745696e+01 8.10405157e+01\n",
      " 7.72919416e+01 6.61719946e+01 5.94737393e+01 5.63808567e+01\n",
      " 5.33719911e+01 5.15343162e+01 5.00838642e+01 4.84287878e+01\n",
      " 4.60808212e+01 4.31107356e+01 3.86129170e+01 3.80924776e+01\n",
      " 3.54565214e+01 3.45851220e+01 3.42569669e+01 3.11674856e+01\n",
      " 2.98114707e+01 2.92121567e+01 2.76841484e+01 2.63274978e+01\n",
      " 2.59749720e+01 2.51015385e+01 2.23898797e+01 2.07589315e+01\n",
      " 2.04167005e+01 1.98891681e+01 1.83075861e+01 1.80260674e+01\n",
      " 1.73734393e+01 1.65075319e+01 1.60976876e+01 1.48762702e+01\n",
      " 1.45953166e+01 1.39683381e+01 1.32286103e+01 1.22747031e+01\n",
      " 1.19707897e+01 1.12052260e+01 1.07482695e+01 1.00432677e+01\n",
      " 9.25450278e+00 8.84342317e+00 8.46459325e+00 8.24704376e+00\n",
      " 7.58631686e+00 7.37234821e+00 7.05524584e+00 6.89820294e+00\n",
      " 6.49563627e+00 6.15641978e+00 5.86696980e+00 5.63679844e+00\n",
      " 5.44217117e+00 5.04052224e+00 4.80964952e+00 4.61278087e+00\n",
      " 4.34507591e+00 3.99909052e+00 3.88597486e+00 3.74535183e+00\n",
      " 3.44312980e+00 3.30976971e+00 3.25296800e+00 2.99014989e+00\n",
      " 2.88658763e+00 2.81408538e+00 2.62615798e+00 2.45422227e+00\n",
      " 2.37127012e+00 2.21770220e+00 2.11617672e+00 2.04990143e+00\n",
      " 1.98457140e+00 1.77319297e+00 1.70075287e+00 1.55642868e+00\n",
      " 1.45823859e+00 1.38582017e+00 1.33186970e+00 1.22111578e+00\n",
      " 1.17156683e+00 1.09379507e+00 9.78383215e-01 8.66367015e-01\n",
      " 8.10591491e-01 6.89109469e-01 6.11589114e-01 5.23019894e-01\n",
      " 4.93831737e-01 4.71436889e-01 4.35779400e-01 4.11106092e-01\n",
      " 3.11955310e-01 2.99833602e-01 2.86398352e-01 2.69898997e-01\n",
      " 2.28057677e-01 2.08144187e-01 1.47903671e-01 1.32490928e-01\n",
      " 1.15573262e-01 8.89693777e-02 6.85781105e-02 5.67312557e-02\n",
      " 5.44575617e-02 4.09389495e-02 4.31754234e-05]\n"
     ]
    }
   ],
   "source": [
    "print(\"The eigenvalues are:\", eigs)"
   ]
  },
  {
   "cell_type": "code",
   "execution_count": 112,
   "metadata": {},
   "outputs": [
    {
     "data": {
      "text/plain": [
       "(127,)"
      ]
     },
     "execution_count": 112,
     "metadata": {},
     "output_type": "execute_result"
    }
   ],
   "source": [
    "## Check on the shape of the singular values \n",
    "## to confirm that there is no zero eigenvalues\n",
    "eigs.shape"
   ]
  },
  {
   "cell_type": "markdown",
   "metadata": {},
   "source": [
    "### List the top 20 eigenvalues"
   ]
  },
  {
   "cell_type": "code",
   "execution_count": 113,
   "metadata": {},
   "outputs": [
    {
     "name": "stdout",
     "output_type": "stream",
     "text": [
      "The top 20 eigenvalues are \n",
      " [4.77623528e+12 1.31476439e+07 6.86061468e+05 2.24667102e+04\n",
      " 2.93218333e+03 2.00404191e+03 1.07771021e+03 6.52550070e+02\n",
      " 5.52199932e+02 3.65353700e+02 3.12976961e+02 2.33596986e+02\n",
      " 2.16949841e+02 1.74577407e+02 1.48709631e+02 1.12553687e+02\n",
      " 1.08318653e+02 1.00416719e+02 8.79745696e+01 8.10405157e+01]\n"
     ]
    }
   ],
   "source": [
    "print(\"The top 20 eigenvalues are \\n\", eigs[0:20])"
   ]
  },
  {
   "cell_type": "markdown",
   "metadata": {},
   "source": [
    "There is no clear point to cut off the dimension, since there is no estimation of error based just on the how much dimension reduced. This is still an open question for Model Order Reduction. In the end, we need an evaluation function to tell whether the reduced model is enough. \n",
    "\n",
    "Typically we could test the reduced dimension by adding up the dimension slowly.\n",
    "\n",
    "For example, we can choose first 5~10 eigenvalues to decide whether it is enough for the dimension reduction. After that, we can test whether the reduced model satisfy the degree of accuracy we needed by adding the dimension step by step. "
   ]
  },
  {
   "cell_type": "code",
   "execution_count": null,
   "metadata": {},
   "outputs": [],
   "source": []
  }
 ],
 "metadata": {
  "kernelspec": {
   "display_name": "Python 3",
   "language": "python",
   "name": "python3"
  },
  "language_info": {
   "codemirror_mode": {
    "name": "ipython",
    "version": 3
   },
   "file_extension": ".py",
   "mimetype": "text/x-python",
   "name": "python",
   "nbconvert_exporter": "python",
   "pygments_lexer": "ipython3",
   "version": "3.7.2"
  }
 },
 "nbformat": 4,
 "nbformat_minor": 2
}
